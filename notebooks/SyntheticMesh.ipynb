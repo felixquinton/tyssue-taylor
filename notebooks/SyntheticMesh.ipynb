{
 "cells": [
  {
   "cell_type": "code",
   "execution_count": null,
   "metadata": {},
   "outputs": [],
   "source": [
    "import numpy as np\n",
    "import matplotlib.pyplot as plt\n",
    "\n",
    "from tyssue.generation import generate_ring\n",
    "from tyssue.draw.plt_draw import quick_edge_draw\n",
    "from tyssue.solvers.sheet_vertex_solver import Solver\n",
    "from tyssue.utils import testing\n",
    "from tyssue.io import hdf5\n",
    "\n",
    "#from tyssue_taylor.adjusters.adjust_annular import adjust_tensions \n",
    "from tyssue_taylor.models.annular import AnnularGeometry as geom\n",
    "from tyssue_taylor.models.annular import model\n"
   ]
  },
  {
   "cell_type": "code",
   "execution_count": null,
   "metadata": {},
   "outputs": [],
   "source": [
    "Nf = 12\n",
    "R_in = 1\n",
    "R_out = 2\n",
    "\n",
    "organo = generate_ring(Nf, R_in, R_out)\n",
    "\n",
    "geom.update_all(organo)\n",
    "specs = {\n",
    "    'face':{\n",
    "        'is_alive': 1,\n",
    "        'prefered_area': organo.face_df.area.mean()*0.9,\n",
    "        'area_elasticity': 1,},\n",
    "    'edge':{\n",
    "        'ux': 0.,\n",
    "        'uy': 0.,\n",
    "        'uz': 0.,\n",
    "        'line_tension': 1e-2,\n",
    "        'is_active': 1\n",
    "        },\n",
    "    'vert':{\n",
    "        'adhesion_strength': 0.,\n",
    "        'x_ecm': 0.,\n",
    "        'y_ecm': 0.,\n",
    "        'is_active': 1\n",
    "        },\n",
    "    'settings': {\n",
    "        'lumen_elasticity': 1.,\n",
    "        'lumen_prefered_vol': organo.settings['lumen_volume'],\n",
    "        'lumen_volume': organo.settings['lumen_volume']\n",
    "        }\n",
    "    }\n",
    "organo.update_specs(specs, reset=True)\n",
    "geom.update_all(organo)\n",
    "\n",
    "\n",
    "organo.vert_df[['x_ecm', 'y_ecm']] = organo.vert_df[['x', 'y']]\n",
    "\n",
    "organo.vert_df.loc[organo.basal_verts, 'adhesion_strength'] = 1e-3\n",
    "\n",
    "    \n",
    "\n",
    "res = Solver.find_energy_min(organo, geom, model,\n",
    "                             minimize={'options': {'gtol': 1e-4, 'ftol': 1e-4}})\n",
    "print(res.success)\n",
    "print(res.message)\n",
    "fig, ax = quick_edge_draw(organo)\n",
    "ax.plot(*organo.vert_df[['x_ecm', 'y_ecm']].values.T, 'o')"
   ]
  },
  {
   "cell_type": "code",
   "execution_count": null,
   "metadata": {},
   "outputs": [],
   "source": [
    "tension_noise = np.random.normal(1, 0.15, size=3*Nf).clip(min=0)\n",
    "area_noise = np.random.normal(1, 0.15, size=Nf).clip(min=0.1)\n",
    "organo.face_df['prefered_area'] *= area_noise\n",
    "\n",
    "organo.edge_df.loc[: Nf-1, 'line_tension'] *= 4*tension_noise[: Nf]\n",
    "organo.edge_df.loc[Nf: 2*Nf-1, 'line_tension'] *= 2*tension_noise[Nf: 2*Nf]\n",
    "\n",
    "organo.edge_df.loc[2*Nf:3*Nf-1, 'line_tension'] *= tension_noise[2*Nf:]\n",
    "organo.edge_df.loc[3*Nf: , 'line_tension'] *= tension_noise[2*Nf:]\n",
    "\n"
   ]
  },
  {
   "cell_type": "code",
   "execution_count": null,
   "metadata": {},
   "outputs": [],
   "source": [
    "res = Solver.find_energy_min(organo, geom, model,\n",
    "                             minimize={'options': {'gtol': 1e-4, 'ftol': 1e-4}})\n",
    "print(res.success)\n",
    "print(res.message)\n",
    "initial = organo.copy()\n",
    "fig, ax = quick_edge_draw(organo)\n",
    "ax.plot(*organo.vert_df.loc[organo.basal_verts,\n",
    "                            ['x_ecm', 'y_ecm']].values.T, 'o')\n"
   ]
  },
  {
   "cell_type": "code",
   "execution_count": null,
   "metadata": {},
   "outputs": [],
   "source": [
    "fig, ax = plt.subplots()\n",
    "\n",
    "estim = organo.edge_df.line_tension.mean() * organo.edge_df.length.mean()/ organo.edge_df.length\n",
    "ax.plot(organo.edge_df.length, estim, 'd', alpha=0.2)\n",
    "\n",
    "ax.plot(organo.edge_df.length, organo.edge_df.line_tension, 'o', alpha=0.3)\n"
   ]
  },
  {
   "cell_type": "code",
   "execution_count": null,
   "metadata": {},
   "outputs": [],
   "source": [
    "initial_guess = (initial.edge_df.length \n",
    "                 * initial.edge_df.line_tension).mean() / initial.edge_df.length\n",
    "initial_guess = initial_guess.values[: 3*Nf]\n",
    "res = adjust_tensions(organo, initial_guess)"
   ]
  },
  {
   "cell_type": "code",
   "execution_count": null,
   "metadata": {},
   "outputs": [],
   "source": [
    "res.message"
   ]
  },
  {
   "cell_type": "code",
   "execution_count": null,
   "metadata": {},
   "outputs": [],
   "source": [
    "fig, ax = quick_edge_draw(organo)\n",
    "fig, ax = quick_edge_draw(initial, ax=ax)"
   ]
  },
  {
   "cell_type": "code",
   "execution_count": null,
   "metadata": {},
   "outputs": [],
   "source": [
    "fig, ax = plt.subplots()\n",
    "ax.plot(initial.edge_df.line_tension, organo.edge_df.line_tension, 'o')\n",
    "ax.plot([initial.edge_df.line_tension.min(), initial.edge_df.line_tension.max()],\n",
    "        [initial.edge_df.line_tension.min(), initial.edge_df.line_tension.max()], 'k-')\n",
    "\n",
    "ax.set(\n",
    "    xlabel='Inital line tensions',\n",
    "    ylabel='Computed line tensions')\n"
   ]
  },
  {
   "cell_type": "code",
   "execution_count": null,
   "metadata": {},
   "outputs": [],
   "source": []
  }
 ],
 "metadata": {
  "kernelspec": {
   "display_name": "Python 3",
   "language": "python",
   "name": "python3"
  },
  "language_info": {
   "codemirror_mode": {
    "name": "ipython",
    "version": 3
   },
   "file_extension": ".py",
   "mimetype": "text/x-python",
   "name": "python",
   "nbconvert_exporter": "python",
   "pygments_lexer": "ipython3",
   "version": "3.6.4"
  }
 },
 "nbformat": 4,
 "nbformat_minor": 2
}
