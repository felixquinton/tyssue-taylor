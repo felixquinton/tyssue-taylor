{
 "cells": [
  {
   "cell_type": "code",
   "execution_count": 29,
   "metadata": {},
   "outputs": [
    {
     "name": "stdout",
     "output_type": "stream",
     "text": [
      "True\n"
     ]
    }
   ],
   "source": [
    "import sys\n",
    "import numpy as np\n",
    "import matplotlib.pyplot as plt\n",
    "\n",
    "from pathlib import Path\n",
    "from scipy.sparse import coo_matrix \n",
    "\n",
    "\n",
    "from tyssue import Sheet\n",
    "from tyssue.io import hdf5\n",
    "from tyssue.stores import stores_dir\n",
    "\n",
    "from tyssue.draw import sheet_view\n",
    "from tyssue.generation import spherical_monolayer\n",
    "\n",
    "from tyssue.dynamics import model_factory, effectors\n",
    "from tyssue.solvers import QSSolver\n",
    "from tyssue import ClosedMonolayerGeometry as geom\n",
    "\n",
    "organo = spherical_monolayer(10, 11, Nc=120, apical=\"in\")\n",
    "\n",
    "model = model_factory(\n",
    "    [\n",
    "        effectors.LineTension,\n",
    "        effectors.LumenVolumeElasticity,\n",
    "        effectors.CellAreaElasticity,\n",
    "        effectors.CellVolumeElasticity,\n",
    "        effectors.SurfaceTension,\n",
    "    ]\n",
    ")\n",
    "geom.update_all(organo)\n",
    "\n",
    "## Initial model settings\n",
    "dyn_specs = {\n",
    "    \"settings\": {\n",
    "        \"lumen_prefered_vol\": organo.settings[\"lumen_vol\"],\n",
    "        \"lumen_vol_elasticity\": 1e-1 / organo.Nc,\n",
    "        \"threshold_length\": 1e-3,\n",
    "    },\n",
    "    \"cell\": {\n",
    "        \"prefered_vol\": organo.cell_df.vol.mean(),\n",
    "        \"vol_elasticity\": 1.0,\n",
    "        \"area_elasticity\": 1.0,\n",
    "        \"prefered_area\": organo.cell_df.area.mean(),\n",
    "    },\n",
    "    \"face\": {\"surface_tension\": 1.0},\n",
    "    \"edge\": {\"line_tension\": 1e-5},\n",
    "}\n",
    "\n",
    "\n",
    "solver = QSSolver()\n",
    "organo.update_specs(dyn_specs, reset=True)\n",
    "\n",
    "res = solver.find_energy_min(organo, geom, model)\n",
    "print(res[\"success\"])\n"
   ]
  },
  {
   "cell_type": "code",
   "execution_count": 5,
   "metadata": {},
   "outputs": [
    {
     "data": {
      "application/vnd.jupyter.widget-view+json": {
       "model_id": "a1b4d7e83dd54ee581e08f098413f7a1",
       "version_major": 2,
       "version_minor": 0
      },
      "text/plain": [
       "Figure(camera=PerspectiveCamera(fov=46.0, position=(0.0, 0.0, 2.0), projectionMatrix=(2.3558523658237527, 0.0,…"
      ]
     },
     "metadata": {},
     "output_type": "display_data"
    }
   ],
   "source": [
    "fig, mesh = sheet_view(organo, mode='3D')\n",
    "fig"
   ]
  },
  {
   "cell_type": "markdown",
   "metadata": {},
   "source": [
    "### Équations du modèle\n",
    "\n",
    "$$\n",
    "E = \\sum_c \\frac{K_v}{2}(V_c - V_c^0)^2 + \\frac{K_{A, c}}{2}(A_c - A_c^0)^2 +  \\sum_\\alpha T_\\alpha A_\\alpha + \\sum_{ij}\\Lambda_{ij}\n",
    "$$\n",
    "We set $K_c = 1$ to fix the unit energy.\n",
    "\n",
    "The force on each vertex is the opposite of the energy gradient w/r to the vertex position.\n",
    "\n",
    "$$\n",
    "\\nabla_i E = \\left(\\frac{\\partial E}{\\partial x_i}, \\frac{\\partial E}{\\partial y_i}, \\frac{\\partial E}{\\partial z_i}\\right) = \\frac{\\partial E}{\\partial \\mathbf{r}_i}\n",
    "$$\n",
    "\n",
    "The idea is to write a linear system of equations with the dynamical parameters \n",
    "as unknowns, and one equation per vertex coordinate.\n",
    "\n",
    "Thus, there are $3N_c + N_f + N_e$ uknowns (defined as the vector $P$) and $3N_v$ equations.\n",
    "\n",
    "$$\n",
    "\\begin{eqnarray}\n",
    "P = (\\delta V_c, K_{A, c}, \\delta A_c), \\quad c &\\in& (0, \\cdots N_c)\\\\\n",
    " T_\\alpha, \\quad \\alpha &\\in& (0, \\cdots N_f)\\\\\n",
    " \\Lambda_{ij}, \\quad {ij} &\\in& (0, \\cdots N_e) \\\\\n",
    "\\end{eqnarray}\n",
    "$$\n",
    "\n",
    "It's easier to treat directly with $\\delta V_c = (V_c - V_c^0)$ and similarly $\\delta A_c$\n",
    "\n",
    "Let's go term by term:\n",
    "\n",
    "#### Volume and area elasticities\n",
    "\n",
    "$$\n",
    "\\nabla_i \\sum_c \\frac{1}{2}(V_c - V_c^0)^2 = \\nabla_i \\sum_c \\delta V_c \\nabla_i \\delta V_c \n",
    "$$\n",
    "\n",
    "\n",
    "In tyssue, an edge belongs to a single face of each cell. The volume gradient above $\\nabla_i \\delta V_c$ can be rewritten over all the edge incident on and going from vertex i. Each of those edges define a tetrahedron. The volume gradient of edge $ij$ for cell $c$ is the same as the volume gradient of the tetrahedron defined by the edge $ij$ and its associated face and cell centers. The above equation can be rewritten as two sums, over the  edges incomming and outgoing from the vertex i.  \n",
    "\n",
    "$$\n",
    "\\nabla_i \\sum_c \\frac{1}{2}(V_c - V_c^0)^2 = \n",
    "        \\sum_{ij} \\delta V_{c, ij \\in c} \\nabla_{ij} V_{c, ij \\in c}\n",
    "        - \\sum_{ji} \\delta V_{c, ji \\in c} \\nabla_{ji} V_{c, ji \\in c} \n",
    "$$\n",
    "\n",
    "This is why the [`volume grad`](https://github.com/DamCB/tyssue/blob/master/tyssue/dynamics/bulk_gradients.py#L8) function returns two vertices over the source (outgoing) and target (incomming) edges.\n",
    "\n",
    "\n",
    "Similarly:\n",
    "\n",
    "$$\n",
    "\\nabla_i \\sum_c \\frac{K_{A, c}}{2}(V_c - V_c^0)^2 = \n",
    "            \\sum_{ij} K_{A, c, ij \\in c} \\delta A_{c, ij \\in c} \\nabla_{ij} A_{c, ij \\in c}\n",
    "            - \\sum_{ji} K_{A, d, ij \\in d} \\delta A_{d, ji \\in c} \\nabla_{ji} A_{d, ji \\in d}\n",
    "$$\n",
    "\n",
    "\n",
    "#### Surface tension\n",
    "With the same reasoning\n",
    "\n",
    "$$\n",
    "\\nabla_i T_\\alpha A_\\alpha =  \n",
    "        \\sum_{ij} T_{\\alpha, ij \\in \\alpha} \\nabla_{ij} A_{\\alpha, ij \\in \\alpha}\n",
    "        - \\sum_{ji} T_{\\beta, ji \\in \\beta} \\nabla_{ji} A_{\\beta, ji \\in \\beta} \n",
    "$$\n",
    "\n",
    "#### Line tension\n",
    "\n",
    "Once again:\n",
    "\n",
    "$$\n",
    "\\nabla_i \\Lambda_{ij} \\ell_{ij} =  \n",
    "        \\sum_{ij} \\Lambda_{ij} \\nabla_i \\ell_{ij}\n",
    "        - \\sum_{ji} \\Lambda_{ji} \\nabla_i \\ell_{ji}  \n",
    "        = \\sum_{ij} \\Lambda_{ij} \\mathbf{u}_{ij}\n",
    "        - \\sum_{ji} \\Lambda_{ji} \\mathbf{u}_{ji}  \n",
    "$$\n",
    "\n",
    "With $\\mathbf{u}_{ij} = \\mathbf{r}_{ij} / \\ell_{ij}$\n",
    "\n",
    "### Implementation\n",
    "\n",
    "As often in tyssue, the good strategy is to compute everything in the edge space, and sum only in the end. The system of equations must be written in matrix form:\n",
    "\n",
    "$$\n",
    "M\\cdot P = 0^{3N_v}\n",
    "$$\n",
    "\n",
    "With $M$ a $(3N_c+N_f+N_e) \\times 3N_v$ matrix and $P$ the parameter vector. Each line of the matrix corresponds to the equation for a vertex coordinates. We write the $x_i$ at lines $3i$ the $y_i$ at lines $3i + 1$ and the $z_i$ at lines $3i + 2$.  \n",
    "\n",
    "In order to build the matrix M, we have to know in which equations each term $p_k$ of the vector $P$ appears. We can build one matrice for each term in the gradient and concatenate them in the end. For this we use connectivity matrices.\n",
    "\n",
    "For example in the case of the line tension,  the term $\\Lambda{ij}$ appears at lines $3i, 3i+1, 3i + 2$ and $3j, 3j+1, 3j + 2$. Assuming $\\Lambda_{ij}$ is the $k$th term in $P$ we have. \n",
    "\n",
    "$$\n",
    "\\begin{eqnarray}\n",
    "m_{k, 3i} &=& x_i / \\ell_{ij}\\\\\n",
    "m_{k, 3i+1} &=& y_i / \\ell_{ij}\\\\\n",
    "m_{k, 3i+2} &=& z_i / \\ell_{ij}\\\\\n",
    "m_{k, 3j} &=& -x_j / \\ell_{ij}\\\\\n",
    "m_{k, 3j+1} &=& -y_j / \\ell_{ij}\\\\\n",
    "m_{k, 3j+2} &=& -z_j / \\ell_{ij}\\\\\n",
    "\\end{eqnarray}\n",
    "$$\n",
    "\n",
    "\n",
    "We thus have $6N_e$ non null terms in the tension matrix\n",
    "\n"
   ]
  },
  {
   "cell_type": "code",
   "execution_count": 109,
   "metadata": {},
   "outputs": [
    {
     "name": "stdout",
     "output_type": "stream",
     "text": [
      "Is the shape correct?\n",
      "True\n"
     ]
    },
    {
     "data": {
      "image/png": "[encoded data removed]",
      "text/plain": [
       "<Figure size 576x576 with 1 Axes>"
      ]
     },
     "metadata": {
      "needs_background": "light"
     },
     "output_type": "display_data"
    }
   ],
   "source": [
    "# We use a sparse matrix definition to build the matrix\n",
    "\n",
    "lengths = organo.edge_df['length'].to_numpy() # ℓ_i\n",
    "\n",
    "srce_terms = (organo.edge_df[[\"sx\", \"sy\", \"sz\"]].to_numpy()\n",
    "              / lengths[:, None]).ravel()\n",
    "trgt_terms = -(organo.edge_df[[\"tx\", \"ty\", \"tz\"]].to_numpy()\n",
    "               / lengths[:, None]).ravel()\n",
    "\n",
    "data = np.concatenate((srce_terms, trgt_terms))\n",
    "\n",
    "rows = organo.edge_df.index.to_numpy().repeat(6)\n",
    "\n",
    "cols = np.concatenate((\n",
    "    3*organo.edge_df['srce'].to_numpy().repeat(3),\n",
    "    3*organo.edge_df['trgt'].to_numpy().repeat(3)))\n",
    "\n",
    "cols += np.tile([0, 1, 2], 2*organo.Ne)\n",
    "\n",
    "line_tension_mat = coo_matrix((data, (rows, cols)))\n",
    "\n",
    "print(\"Is the shape correct?\")\n",
    "print(line_tension_mat.shape == (organo.Ne, 3 * organo.Nv))\n",
    "\n",
    "fig, ax = plt.subplots()\n",
    "ax.imshow((line_tension_mat != 0).todense(), cmap='Greys', interpolation=None)\n",
    "fig.set_size_inches(8, 8)\n"
   ]
  },
  {
   "cell_type": "markdown",
   "metadata": {},
   "source": [
    "To do the same for the surface tension and elasticities, we need to know which vertex belongs to which cell or face.\n",
    "\n",
    "For example let's work on the surface tension:\n",
    "\n",
    "\n",
    "$$\n",
    "\\nabla_i \\sum_\\alpha(T_\\alpha A_\\alpha) =  \n",
    "        \\sum_\\alpha T_\\alpha (\\nabla_{ij} A_{\\alpha} - \\nabla_{ki} A_{\\alpha ki}) \n",
    "$$\n",
    "Assuming $j$ and $k$ are the two vertices of face $\\alpha$ connected to vertex $i$\n",
    "\n",
    "Let's assume that the apical vertex $i$ belongs to 3 cells and thus 9 faces (3 per cell). There will be non zero terms in those 9 lines and the 3 rows of vertex i. For each line (thus each face), there is a term corresponding to the triangle for which vertex i is a source and a term for which vertex i is a target.\n",
    "\n",
    "If surface tension  $T_\\alpha$ is at line $n$ of P, we have:\n",
    "\n",
    "$$\n",
    "\\begin{eqnarray}\n",
    "m_{n, 3i} &=& T_\\alpha (\\partial A_\\alpha / \\partial {x_{ij}} - \\partial A_\\alpha / \\partial {x_{ki}})\\\\\n",
    "m_{n, 3i+1} &=& T_\\alpha (\\partial A_\\alpha / \\partial {y_{ij}} - \\partial A_\\alpha / \\partial {y_{ki}})\\\\\n",
    "m_{n, 3i+2} &=& T_\\alpha (\\partial A_\\alpha / \\partial {z_{ij}} - \\partial A_\\alpha / \\partial {z_{ki}})\\\\\n",
    "\\end{eqnarray}\n",
    "$$\n",
    "\n",
    "\n",
    "If we flip this now, for each edge there are 3 terms for the source vertex and 3 terms for the target vertex.\n",
    "\n",
    "\n",
    "$$\n",
    "\\begin{eqnarray}\n",
    "m_{n, 3i} &=& T_\\alpha (\\partial A_\\alpha / \\partial {x_{ij}} - \\partial A_\\alpha / \\partial {x_{ki}})\\\\\n",
    "m_{n, 3i+1} &=& T_\\alpha (\\partial A_\\alpha / \\partial {y_{ij}} - \\partial A_\\alpha / \\partial {y_{ki}})\\\\\n",
    "m_{n, 3i+2} &=& T_\\alpha (\\partial A_\\alpha / \\partial {z_{ij}} - \\partial A_\\alpha / \\partial {z_{ki}})\\\\\n",
    "m_{n, 3j} &=& T_\\alpha (\\partial A_\\alpha / \\partial {x_{jl}} - \\partial A_\\alpha / \\partial {x_{ij}})\\\\\n",
    "m_{n, 3j+1} &=& T_\\alpha (\\partial A_\\alpha / \\partial {y_{jl}} - \\partial A_\\alpha / \\partial {y_{ij}})\\\\\n",
    "m_{n, 3j+2} &=& T_\\alpha (\\partial A_\\alpha / \\partial {z_{jl}} - \\partial A_\\alpha / \\partial {z_{ij}})\\\\\n",
    "\\end{eqnarray}\n",
    "$$\n"
   ]
  },
  {
   "cell_type": "code",
   "execution_count": 106,
   "metadata": {},
   "outputs": [],
   "source": [
    "from tyssue.dynamics.sheet_gradients import area_grad\n",
    "from tyssue.dynamics.bulk_gradients import volume_grad\n"
   ]
  },
  {
   "cell_type": "code",
   "execution_count": 108,
   "metadata": {},
   "outputs": [
    {
     "data": {
      "image/png": "[encoded data removed]",
      "text/plain": [
       "<Figure size 864x216 with 1 Axes>"
      ]
     },
     "metadata": {
      "needs_background": "light"
     },
     "output_type": "display_data"
    }
   ],
   "source": [
    "# copy Tα  on the edges\n",
    "\n",
    "tensions = organo.upcast_face(organo.face_df['surface_tension']).to_numpy()\n",
    "\n",
    "# compute \\nabla A\n",
    "grad_a_srce, grad_a_trgt = area_grad(organo)\n",
    "\n",
    "taga_srce = (grad_a_srce * tensions[:, None]).to_numpy().ravel()\n",
    "taga_trgt = (grad_a_trgt * tensions[:, None]).to_numpy().ravel()\n",
    "\n",
    "data = np.concatenate((taga_srce, taga_trgt))\n",
    "\n",
    "rows = organo.edge_df['face'].to_numpy().repeat(6)\n",
    "surface_tension_mat = coo_matrix((data, (rows, cols)))\n",
    "fig, ax = plt.subplots()\n",
    "\n",
    "ax.imshow((surface_tension_mat != 0).todense(), cmap='Greys', interpolation=None)\n",
    "fig.set_size_inches(12, 3)\n"
   ]
  },
  {
   "cell_type": "code",
   "execution_count": 104,
   "metadata": {},
   "outputs": [
    {
     "data": {
      "text/plain": [
       "True"
      ]
     },
     "execution_count": 104,
     "metadata": {},
     "output_type": "execute_result"
    }
   ],
   "source": [
    "surface_tension_mat.shape == (organo.Nf,  3 * organo.Nv)"
   ]
  },
  {
   "cell_type": "code",
   "execution_count": null,
   "metadata": {},
   "outputs": [],
   "source": []
  }
 ],
 "metadata": {
  "kernelspec": {
   "display_name": "Python 3",
   "language": "python",
   "name": "python3"
  },
  "language_info": {
   "codemirror_mode": {
    "name": "ipython",
    "version": 3
   },
   "file_extension": ".py",
   "mimetype": "text/x-python",
   "name": "python",
   "nbconvert_exporter": "python",
   "pygments_lexer": "ipython3",
   "version": "3.6.7"
  }
 },
 "nbformat": 4,
 "nbformat_minor": 2
}
