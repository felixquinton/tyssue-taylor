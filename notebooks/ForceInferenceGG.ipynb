{
 "cells": [
  {
   "cell_type": "code",
   "execution_count": 15,
   "metadata": {},
   "outputs": [],
   "source": [
    "import numpy as np\n",
    "import matplotlib.pyplot as plt\n",
    "import time\n",
    "import pandas as pd\n",
    "import pathlib\n",
    "\n",
    "from tyssue.generation import generate_ring\n",
    "from tyssue.draw.plt_draw import quick_edge_draw\n",
    "from tyssue.solvers.sheet_vertex_solver import Solver\n",
    "from tyssue.config.draw import sheet_spec\n",
    "from tyssue.draw.plt_draw import sheet_view\n",
    "from tyssue.io.hdf5 import save_datasets\n",
    "\n",
    "from tyssue_taylor.adjusters.adjust_annular import set_init_point, prepare_tensions, adjust_tensions\n",
    "from tyssue_taylor.models.annular import AnnularGeometry as geom\n",
    "from tyssue_taylor.models.annular import model\n",
    "from tyssue_taylor.adjusters.cost_functions import _distance\n",
    "from tyssue_taylor.adjusters.force_inference import infer_forces\n",
    "# from tyssue_taylor.segmentation.segment2D import generate_ring_from_image, normalize_scale\n",
    "\n",
    "\n",
    "def normalize_scale(organo, geom):\n",
    "    \"\"\"Rescale an organo so that the mean cell area is close to 1.\n",
    "    Useful if one as some issues with the scale of the optimization parameters.\n",
    "    Parameters\n",
    "    ----------\n",
    "    organo : :class:`Epithelium` object\n",
    "      the organo to rescale\n",
    "    geom : tyssue geometry class\n",
    "    Return\n",
    "    ----------\n",
    "    res_organo : :class:`Epithelium` object\n",
    "      the rescaled organo\n",
    "    \"\"\"\n",
    "    mean = organo.face_df.area.mean()\n",
    "    organo.vert_df.loc[:, organo.coords] /= mean**0.5\n",
    "    organo.settings['R_in'] /= mean**0.5\n",
    "    organo.settings['R_out'] /= mean**0.5\n",
    "    geom.update_all(organo)\n",
    "    return organo\n",
    "\n",
    "def get_sequence(seed, theta, shape):\n",
    "    np.random.seed(seed)\n",
    "    \n",
    "    return np.random.normal(1.0, theta, shape)\n",
    "\n"
   ]
  },
  {
   "cell_type": "markdown",
   "metadata": {},
   "source": [
    "Generate the theoritical organoïd"
   ]
  },
  {
   "cell_type": "markdown",
   "metadata": {},
   "source": [
    "I'm putting here a list of remarks, all might not be related to the force infernce code\n",
    "\n",
    "- maybe `normalize_scale` can be moved to `models.annular` as it is more a geometry than a segmentation thing\n",
    "\n",
    "- Dans le texte théorique (qu'il faudra traduire en anglais et mettre dans la doc du projet):\n",
    "\n",
    "> Bien que l’on puisse définir 2 ∗ N v contraintes grâce aux équation (2), un degré de liberté supplémentaire apparaı̂t car une variation uniforme des pressions P α , α ∈ {1, ..., N f + 2} ne change pas l’équilibre des forces, et donc ne modifie pas la forme des cellules.\n",
    "\n",
    "Qu'entends-tu par «variation uniforme» ? Avec une multiplication ça va changer, pas en ajoutant une constante partout.\n",
    "\n",
    "\n",
    "- Se serait bien d'écrire le cas général (sans hypothèse sur la relation entre Ne, Nf et Nv, et d'écrire la forme des matrices selon leur taille \"naturelle\" (Nf, Nv ou Ne selon le cas)\n"
   ]
  },
  {
   "cell_type": "code",
   "execution_count": 16,
   "metadata": {},
   "outputs": [
    {
     "name": "stderr",
     "output_type": "stream",
     "text": [
      "Reseting datasets values with new specs\n"
     ]
    }
   ],
   "source": [
    "organo = generate_ring(10, 110, 150)\n",
    "Nf= organo.Nf\n",
    "geom.update_all(organo)\n",
    "normalize_scale(organo, geom)\n",
    "#alpha as proposed in the doc (in french) https://www.sharelatex.com/read/zdxptpnrryhc\n",
    "alpha = 1 + 1/(20*(organo.settings['R_out']-organo.settings['R_in']))\n",
    "\n",
    "\n",
    "# Model parameters or specifications\n",
    "specs = {\n",
    "    'face':{\n",
    "        'is_alive': 1,\n",
    "        'prefered_area':  alpha*organo.face_df.area, \n",
    "        'area_elasticity': 1.,},\n",
    "    'edge':{        \n",
    "        'ux': 0.,\n",
    "        'uy': 0.,\n",
    "        'uz': 0.,\n",
    "        'line_tension': 0.1,\n",
    "        'is_active': 1\n",
    "        },\n",
    "    'vert':{\n",
    "        'adhesion_strength': 0.,\n",
    "        'x_ecm': 0.,\n",
    "        'y_ecm': 0.,\n",
    "        'is_active': 1\n",
    "        },\n",
    "    'settings': {\n",
    "        'lumen_elasticity': 0.1,\n",
    "        'lumen_prefered_vol': organo.settings['lumen_volume'],\n",
    "        'lumen_volume': organo.settings['lumen_volume']\n",
    "        }\n",
    "    }\n",
    "\n",
    "organo.update_specs(specs, reset=True)\n",
    "geom.update_all(organo)\n",
    "\n",
    "symetric_tensions = np.multiply(set_init_point(organo.settings['R_in'], organo.settings['R_out'], organo.Nf, alpha),\n",
    "                                np.random.normal(1,0.002,int(organo.Ne*0.75)))\n",
    "sin_mul = 1+(np.sin(np.linspace(0, 2*np.pi, organo.Nf, endpoint=False)))**2\n",
    "organo.face_df.prefered_area *= np.random.normal(1.0, 0.05, organo.Nf)\n",
    "organo.edge_df.line_tension = prepare_tensions(organo, symetric_tensions)\n",
    "organo.edge_df.loc[:Nf-1, 'line_tension'] *= sin_mul\n",
    "\n",
    "organo.vert_df[['x_ecm', 'y_ecm']] = organo.vert_df[['x', 'y']]\n",
    "\n",
    "organo.vert_df.loc[organo.basal_verts, 'adhesion_strength'] = 0.01\n",
    "\n",
    "new_tensions = organo.edge_df.line_tension\n",
    "\n",
    "organo.edge_df.loc[:,'line_tension'] = new_tensions\n",
    "                                                          \n",
    "res = Solver.find_energy_min(organo, geom, model)                                                       "
   ]
  },
  {
   "cell_type": "code",
   "execution_count": 17,
   "metadata": {},
   "outputs": [
    {
     "data": {
      "image/png": "[encoded data removed]",
      "text/plain": [
       "<Figure size 432x288 with 1 Axes>"
      ]
     },
     "metadata": {},
     "output_type": "display_data"
    }
   ],
   "source": [
    "fig, ax = sheet_view(organo)"
   ]
  },
  {
   "cell_type": "markdown",
   "metadata": {},
   "source": [
    "$$\n",
    "\\begin{eqnarray}\n",
    "F^x_{ij} &= T_{ij}\\frac{x_{ij}}{\\ell_{ij}^2} + y_{ij}(P_a - P_b)\\\\\n",
    "F^y_{ij} &= T_{ij}\\frac{y_{ij}}{\\ell_{ij}^2} - x_{ij}(P_a - P_b)\\\\\n",
    "\\end{eqnarray}\n",
    "$$"
   ]
  },
  {
   "cell_type": "code",
   "execution_count": 18,
   "metadata": {},
   "outputs": [],
   "source": [
    "from tyssue.utils import data_at_opposite\n",
    "\n",
    "organo.get_opposite()\n",
    "lumen_pressure = 10\n",
    "outside_pressure = 5\n",
    "\n",
    "\n",
    "# lets put random values for the values to infer\n",
    "organo.edge_df['infered_tension'] = np.random.random(organo.Ne)\n",
    "organo.face_df['infered_pressure'] = np.random.random(organo.Nf)\n",
    "\n",
    "organo.edge_df['opposite_face'] = data_at_opposite(\n",
    "    organo, organo.edge_df['face'], free_value=-1)\n",
    "\n",
    "organo.edge_df['face_pressure'] = organo.upcast_face(organo.face_df['infered_pressure'])\n",
    "organo.edge_df['oppo_pressure'] = data_at_opposite(\n",
    "    organo, organo.edge_df['face_pressure'], free_value=lumen_pressure)\n",
    "\n",
    "\n",
    "## index for the organoid exterior set to -2\n",
    "organo.edge_df.loc[organo.basal_edges, 'opposite_face'] = -2\n",
    "organo.edge_df.loc[organo.basal_edges, 'oppo_pressure'] = outside_pressure\n",
    "\n",
    "\n",
    "\n",
    "tension_x = organo.edge_df.eval('infered_tension * dx / length**2')\n",
    "tension_y = organo.edge_df.eval('infered_tension * dy / length**2')\n",
    "\n",
    "laplace_x = organo.edge_df.eval('dy * (oppo_pressure - face_pressure)/2')\n",
    "laplace_y = organo.edge_df.eval('-dx * (oppo_pressure - face_pressure)/2')\n",
    "\n",
    "\n"
   ]
  },
  {
   "cell_type": "markdown",
   "metadata": {},
   "source": [
    "Dans le cas général, un vertex a trois voisins, avec (ou non) 2 demi-mailles entre eux:\n",
    "\n",
    "```\n",
    "       j\n",
    "      ||\n",
    "       i\n",
    "    //  \\\\\n",
    "    k    l\n",
    "```\n",
    "\n",
    "Pour l'instant on ne suppose pas que les tensions des 2 demi-mailles sont égales, on verra comment simplifier après.\n",
    "\n",
    "On pose $u_{ij} = x_{ij}/\\ell_{ij}^2, \\quad v_{ij} = y_{ij}/\\ell_{ij}^2$,\n",
    "\n",
    "L'équation pour la position en $x$ du vertex $i$ s'écrit à la ligne $i$: \n",
    "\n",
    "$$\\sum_j F^x_{ij} = 0 \\Leftrightarrow \n",
    "   T_{ij}u_{ij} - T_{ji}u_{ji}\n",
    " + T_{ik}u_{ik} - T_{ki}u_{ki}\n",
    " + T_{il}u_{ij} - T_{li}u_{li} = 0$$\n",
    " \n",
    "Pour $y_i$ à la ligne $i + N_v$: \n",
    "\n",
    "$$\\sum_j F^x_{ij} = 0 \\Leftrightarrow \n",
    "   T_{ij}v_{ij} - T_{ji}v_{ji}\n",
    " + T_{ik}v_{ik} - T_{ki}v_{ki}\n",
    " + T_{il}v_{ij} - T_{li}v_{li} = 0$$\n",
    " \n",
    "On ajoute à la ligne $N_v$ la contrainte sur la somme des tensions:\n",
    "$\\sum_{ij} T_{ij} = 1$\n",
    " \n",
    "Le système linéaire a $2N_v + 1$ équations et $N_e$ inconnues.\n"
   ]
  },
  {
   "cell_type": "code",
   "execution_count": 27,
   "metadata": {},
   "outputs": [
    {
     "name": "stdout",
     "output_type": "stream",
     "text": [
      "[[-0.59382897  0.          0.         ...  0.          0.\n",
      "   0.        ]\n",
      " [ 0.59382897 -0.99463053  0.         ...  0.          0.\n",
      "   0.        ]\n",
      " [ 0.          0.99463053 -0.92501244 ...  0.          0.\n",
      "   0.        ]\n",
      " ...\n",
      " [ 0.          0.          0.         ...  0.         -0.81107622\n",
      "   0.        ]\n",
      " [ 0.          0.          0.         ...  0.          0.\n",
      "  -0.084806  ]\n",
      " [ 1.          1.          1.         ...  1.          1.\n",
      "   1.        ]]\n"
     ]
    },
    {
     "data": {
      "image/png": "[encoded data removed]",
      "text/plain": [
       "<Figure size 432x288 with 1 Axes>"
      ]
     },
     "metadata": {},
     "output_type": "display_data"
    }
   ],
   "source": [
    "from scipy import sparse ## See relevant doc\n",
    "\n",
    "## This needs to be done only at initialisation\n",
    "## Or when the topology changes\n",
    "organo.get_extra_indices()\n",
    "\n",
    "def coef_matrix(organo):\n",
    "    \n",
    "    u_ij = organo.edge_df.eval('dx / length')\n",
    "    v_ij = organo.edge_df.eval('dy / length')\n",
    "    uv_ij = np.concatenate((u_ij, v_ij))\n",
    "\n",
    "    A_shape = (2*organo.Nv+1, organo.Ne)\n",
    "    srce_rows = np.concatenate([\n",
    "        organo.edge_df.srce,              ## x lines\n",
    "        organo.edge_df.srce + organo.Nv   ## y lines\n",
    "    ])\n",
    "\n",
    "    trgt_rows = np.concatenate([\n",
    "        organo.edge_df.trgt,              ## x lines\n",
    "        organo.edge_df.trgt + organo.Nv   ## y lines\n",
    "    ])\n",
    "\n",
    "    cols = np.r_[:organo.Ne, :organo.Ne] ## [0 ... Ne, 0 ... Ne]\n",
    "\n",
    "    A_srce = sparse.coo_matrix((uv_ij, (srce_rows, cols)), shape=A_shape)\n",
    "    A_trgt = sparse.coo_matrix((-uv_ij, (trgt_rows, cols)), shape=A_shape)\n",
    "    # Ones every where on the last line\n",
    "    A_sumT = sparse.coo_matrix(\n",
    "        (np.ones(organo.Ne), \n",
    "         (np.ones(organo.Ne)*2*organo.Nv, \n",
    "          np.arange(organo.Ne))), shape=A_shape)\n",
    "\n",
    "    A = A_srce + A_trgt + A_sumT\n",
    "\n",
    "    # As tensions are equal for edge pairs, we can solve for only \n",
    "    # the single edges. An index over only one half-edge per edge\n",
    "    # can be obtained with:\n",
    "\n",
    "    A = A[:, organo.sgle_edges]\n",
    "\n",
    "    return A\n",
    "\n",
    "A = coef_matrix(organo)\n",
    "fig, ax = plt.subplots()\n",
    "ax.imshow(A.toarray(), cmap='Greys')\n",
    "print(A.toarray())"
   ]
  },
  {
   "cell_type": "code",
   "execution_count": 30,
   "metadata": {},
   "outputs": [
    {
     "data": {
      "text/plain": [
       "Int64Index([ 0,  1,  2,  3,  4,  5,  6,  7,  8,  9, 10, 11, 12, 13, 14, 15, 16,\n",
       "            17, 18, 19, 20, 21, 22, 23, 24, 34, 35, 36, 37, 38],\n",
       "           dtype='int64', name='edge')"
      ]
     },
     "execution_count": 30,
     "metadata": {},
     "output_type": "execute_result"
    }
   ],
   "source": [
    "organo.sgle_edges"
   ]
  },
  {
   "cell_type": "markdown",
   "metadata": {},
   "source": [
    "### Comparison with the original implementation"
   ]
  },
  {
   "cell_type": "code",
   "execution_count": 26,
   "metadata": {},
   "outputs": [
    {
     "name": "stdout",
     "output_type": "stream",
     "text": [
      "[[-0.59382897  0.          0.         ...  0.          0.\n",
      "   0.        ]\n",
      " [ 0.59382897 -0.99463053  0.         ...  0.          0.\n",
      "   0.        ]\n",
      " [ 0.          0.99463053 -0.92501244 ...  0.          0.\n",
      "   0.        ]\n",
      " ...\n",
      " [ 0.          0.          0.         ...  0.         -0.81107622\n",
      "   0.        ]\n",
      " [ 0.          0.          0.         ...  0.          0.\n",
      "  -0.084806  ]\n",
      " [ 1.          1.          1.         ...  1.          1.\n",
      "   1.        ]]\n"
     ]
    },
    {
     "data": {
      "text/plain": [
       "<matplotlib.image.AxesImage at 0x7ff5f250bfd0>"
      ]
     },
     "execution_count": 26,
     "metadata": {},
     "output_type": "execute_result"
    },
    {
     "data": {
      "image/png": "[encoded data removed]",
      "text/plain": [
       "<Figure size 432x288 with 1 Axes>"
      ]
     },
     "metadata": {},
     "output_type": "display_data"
    }
   ],
   "source": [
    "from tyssue_taylor.adjusters.force_inference import _coef_matrix\n",
    "\n",
    "original_A = _coef_matrix(organo, compute_pressions=False)\n",
    "print(original_A)\n",
    "fig, ax = plt.subplots()\n",
    "ax.imshow(original_A, cmap='Greys')"
   ]
  },
  {
   "cell_type": "code",
   "execution_count": 11,
   "metadata": {},
   "outputs": [
    {
     "name": "stdout",
     "output_type": "stream",
     "text": [
      "3.7 ms ± 23.4 µs per loop (mean ± std. dev. of 7 runs, 100 loops each)\n"
     ]
    }
   ],
   "source": [
    "%timeit coef_matrix(organo)"
   ]
  },
  {
   "cell_type": "code",
   "execution_count": 12,
   "metadata": {},
   "outputs": [
    {
     "name": "stdout",
     "output_type": "stream",
     "text": [
      "40 ms ± 225 µs per loop (mean ± std. dev. of 7 runs, 10 loops each)\n"
     ]
    }
   ],
   "source": [
    "%timeit _coef_matrix(organo)"
   ]
  },
  {
   "cell_type": "code",
   "execution_count": 9,
   "metadata": {},
   "outputs": [
    {
     "data": {
      "text/plain": [
       "True"
      ]
     },
     "execution_count": 9,
     "metadata": {},
     "output_type": "execute_result"
    }
   ],
   "source": [
    "# All the coeffs of both matrices have the same sign\n",
    "# but they differ in values, IDK where this comes from\n",
    "\n",
    "np.all(np.sign(original_A) == np.sign(A.toarray()))"
   ]
  },
  {
   "cell_type": "code",
   "execution_count": 10,
   "metadata": {},
   "outputs": [
    {
     "data": {
      "text/plain": [
       "[<matplotlib.lines.Line2D at 0x7ff5f5f6ee80>]"
      ]
     },
     "execution_count": 10,
     "metadata": {},
     "output_type": "execute_result"
    },
    {
     "data": {
      "image/png": "[encoded data removed]",
      "text/plain": [
       "<Figure size 432x288 with 1 Axes>"
      ]
     },
     "metadata": {},
     "output_type": "display_data"
    }
   ],
   "source": [
    "fig, ax = plt.subplots()\n",
    "ax.plot(A.toarray().ravel(), original_A.ravel(), 'o')\n",
    "ax.plot(np.linspace(-2, 2), np.linspace(-2, 2), 'k-')"
   ]
  },
  {
   "cell_type": "code",
   "execution_count": null,
   "metadata": {},
   "outputs": [],
   "source": []
  }
 ],
 "metadata": {
  "kernelspec": {
   "display_name": "Python 3",
   "language": "python",
   "name": "python3"
  },
  "language_info": {
   "codemirror_mode": {
    "name": "ipython",
    "version": 3
   },
   "file_extension": ".py",
   "mimetype": "text/x-python",
   "name": "python",
   "nbconvert_exporter": "python",
   "pygments_lexer": "ipython3",
   "version": "3.6.4"
  }
 },
 "nbformat": 4,
 "nbformat_minor": 2
}
