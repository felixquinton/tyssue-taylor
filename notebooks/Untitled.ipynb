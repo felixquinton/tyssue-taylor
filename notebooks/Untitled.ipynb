{
 "cells": [
  {
   "cell_type": "markdown",
   "metadata": {},
   "source": [
    "    The aim of this notebook is to work on the "
   ]
  },
  {
   "cell_type": "code",
   "execution_count": 1,
   "metadata": {},
   "outputs": [
    {
     "name": "stdout",
     "output_type": "stream",
     "text": [
      "Error: IPOPT shared library failed to import\n"
     ]
    }
   ],
   "source": [
    "import numpy as np\n",
    "import matplotlib.pyplot as plt\n",
    "import time\n",
    "import pandas as pd\n",
    "import pathlib\n",
    "\n",
    "from tyssue.generation import generate_ring\n",
    "from tyssue.draw.plt_draw import quick_edge_draw\n",
    "from tyssue.solvers.sheet_vertex_solver import Solver\n",
    "from tyssue.config.draw import sheet_spec\n",
    "from tyssue.draw.plt_draw import sheet_view\n",
    "from tyssue.io.hdf5 import save_datasets\n",
    "\n",
    "from tyssue_taylor.adjusters.adjust_annular import set_init_point, prepare_tensions, adjust_tensions\n",
    "from tyssue_taylor.models.annular import AnnularGeometry as geom\n",
    "from tyssue_taylor.models.annular import model\n",
    "from tyssue_taylor.adjusters.cost_functions import _distance\n",
    "from tyssue_taylor.segmentation.segment2D import generate_ring_from_image, normalize_scale"
   ]
  },
  {
   "cell_type": "code",
   "execution_count": null,
   "metadata": {},
   "outputs": [],
   "source": []
  }
 ],
 "metadata": {
  "kernelspec": {
   "display_name": "Python 3",
   "language": "python",
   "name": "python3"
  },
  "language_info": {
   "codemirror_mode": {
    "name": "ipython",
    "version": 3
   },
   "file_extension": ".py",
   "mimetype": "text/x-python",
   "name": "python",
   "nbconvert_exporter": "python",
   "pygments_lexer": "ipython3",
   "version": "3.6.4"
  }
 },
 "nbformat": 4,
 "nbformat_minor": 2
}
