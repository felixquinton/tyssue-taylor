{
 "cells": [
  {
   "cell_type": "code",
   "execution_count": 7,
   "metadata": {},
   "outputs": [],
   "source": [
    "import numpy as np\n",
    "import matplotlib.pyplot as plt\n",
    "\n",
    "import sympy"
   ]
  },
  {
   "cell_type": "markdown",
   "metadata": {},
   "source": [
    "## Ring points generation\n"
   ]
  },
  {
   "cell_type": "markdown",
   "metadata": {},
   "source": [
    "## Simple model\n",
    "\n",
    "We use a minimal model of the tissue with an energy as:\n",
    "\n",
    "$$E = \\sum_\\alpha \\frac{K_\\alpha}{2}(A_\\alpha - A_\\alpha^0)^2 + \\sum_{i,j} \\Lambda_{ij}\\ell_{ij}$$\n",
    "\n",
    "Where the first sum is over the faces and the second is over the edges of the mesh, $A_\\alpha$ is the area of cell $\\alpha$ and $\\ell_{ij}$ the length of the edge between vertices $i$ and $j$.\n",
    "\n",
    "\n"
   ]
  },
  {
   "cell_type": "markdown",
   "metadata": {},
   "source": [
    "### Regular polygon model\n",
    "\n",
    "We can work with a fully symetrical model to set the average values of the parameters $K_\\alpha, A_\\alpha^0$ and $\\Lambda_{ij}$. We note those by droping the indices, except to differentiate between apical, basal and lateral segments for the edges, $K, A^0, \\Lambda_a,\\Lambda_b, \\Lambda_l$\n",
    "\n",
    "Let's assume that the mesh is perfectly circular, with $R_i$ and $R_o$ the inner and outer diameters, respectively, and $N_f$ the number of faces. \n",
    "\n",
    "We have:\n",
    "\n",
    "$$ E_s = \\frac{N_f K}{2}(A - A^0)^2 + N_f\\Lambda_b\\ell_b + N_f\\Lambda_a\\ell_a + 2N_f\\Lambda_l\\ell_l $$\n",
    "\n",
    "We can normalise by dividing by $N_f$ and setting $K=1$ by definition:\n",
    "\n",
    "$$ E_s/N_f = \\epsilon_s = \\frac{1}{2}(A - A^0)^2 + \\Lambda_b\\ell_b + \\Lambda_a\\ell_a + 2\\Lambda_l\\ell_l $$\n",
    "\n",
    "The lengths of the lateral edges is $\\ell_l = R_o - R_i$\n",
    "\n",
    "The length of the basal and apical edges are the chord lengths:\n",
    "$$\n",
    "\\ell_a = 2R_i\\sin(\\pi/N_f), \\ell_b = 2R_o\\sin(\\pi/N_f)\n",
    "$$\n",
    "\n",
    "We can compute the area of the cell as it is a simple trapezoid whose height is $h = (R_o - R_i)\\cos(\\pi/N_f)/2$:\n",
    "$$\n",
    "A = \\frac{h(\\ell_a + \\ell_b)}{2} = \\frac{(R_o - R_i)}{2}\\cos(\\pi/N_f)(2R_o + 2R_i)\\sin(\\pi/N_f) = \\frac{(R_o^2 - R_i^2)}{2}\\sin(2\\pi/N_f)\n",
    "$$\n",
    "\n",
    "#### Homogenous line tension case\n",
    "\n",
    "If the line tension is the same for all the segments, we have:\n",
    "\n",
    "$$\n",
    "\\epsilon_s = \\frac{1}{2}\\left(\\frac{(R_o^2 - R_i^2)}{2}\\sin(2\\pi/N_f) - A^0\\right)^2 + 2\\Lambda\\left((R_o - R_i) + (R_o + R_i)\\sin(\\pi/Nf)\\right)\n",
    "$$\n",
    "\n",
    "The problem is then to look for the minimum of this experession as a function of $A^0$ and $\\Lambda$.\n",
    "\n"
   ]
  },
  {
   "cell_type": "markdown",
   "metadata": {},
   "source": [
    "$$ \\epsilon_s = \\frac{(1 - \\alpha)^2}{2}A^2 + \\Lambda_b R_b \\sin\\frac{\\pi}{N_f} + \\Lambda_a R_a \\sin\\frac{\\pi}{N_f} + 2\\Lambda_l (R_b - R_a)\n",
    "$$\n",
    "\n",
    "\n",
    "$$\n",
    "\\begin{eqnarray}\n",
    "\\frac{\\partial \\epsilon_s}{\\partial R_a} &=& (1-\\alpha)^2 A \\frac{\\partial A}{\\partial R_a} + \\Lambda_a  \\sin\\frac{\\pi}{N_f} - 2 \\Lambda_l \\\\\n",
    "\\frac{\\partial \\epsilon_s}{\\partial R_b} &=& (1-\\alpha)^2 A \\frac{\\partial A}{\\partial R_b} + \\Lambda_b  \\sin\\frac{\\pi}{N_f} + 2 \\Lambda_l \\\\\n",
    "\\end{eqnarray}\n",
    "$$\n"
   ]
  },
  {
   "cell_type": "code",
   "execution_count": 8,
   "metadata": {},
   "outputs": [
    {
     "data": {
      "image/png": "[encoded data removed]",
      "text/plain": [
       "<matplotlib.figure.Figure at 0x7fdd4f4c9208>"
      ]
     },
     "metadata": {},
     "output_type": "display_data"
    }
   ],
   "source": [
    "from math import sin, cos\n",
    "R_a, R_b = 110, 150\n",
    "Nf = 12\n",
    "\n",
    "\n",
    "\n",
    "def symmetric_energy(lbda_a, lbda_b, lbda_l=1, Nf=12, R_a=110, R_b=150, alpha=1.1, KL=10):\n",
    "    \n",
    "    area = (R_b**2 - R_a**2) * sin(2*np.pi/Nf) / 2\n",
    "    area_elasticity = 0.5 * (area * (1 - alpha))**2\n",
    "    lumen_elasticity = 0.5*KL * (R_a**2 * sin(2*np.pi/Nf)* (1 - alpha) / 2)**2\n",
    "    line_tension =  (lbda_a * R_a + lbda_b * R_b) * sin(np.pi/Nf) + 2*lbda_l * (R_b - R_a)\n",
    "    \n",
    "    return area_elasticity + line_tension + lumen_elasticity\n",
    "\n",
    "lbda_a, lbda_b = np.meshgrid(np.linspace(0.2, 1.5, 128),\n",
    "                             np.linspace(0.5, 1.5, 128))\n",
    "\n",
    "\n",
    "energies = symmetric_energy(lbda_a, lbda_b)\n",
    "\n",
    "fig, ax = plt.subplots()\n",
    "ax.pcolorfast([lbda_a.min(), lbda_a.max()],\n",
    "              [lbda_a.min(), lbda_a.max()], energies)\n",
    "_ = ax.set(xlabel='Apical tension',\n",
    "           ylabel='Basal tension')"
   ]
  },
  {
   "cell_type": "code",
   "execution_count": 9,
   "metadata": {},
   "outputs": [
    {
     "data": {
      "text/plain": [
       "0"
      ]
     },
     "execution_count": 9,
     "metadata": {},
     "output_type": "execute_result"
    }
   ],
   "source": [
    "energies.argmin()\n"
   ]
  }
 ],
 "metadata": {
  "kernelspec": {
   "display_name": "Python 3",
   "language": "python",
   "name": "python3"
  },
  "language_info": {
   "codemirror_mode": {
    "name": "ipython",
    "version": 3
   },
   "file_extension": ".py",
   "mimetype": "text/x-python",
   "name": "python",
   "nbconvert_exporter": "python",
   "pygments_lexer": "ipython3",
   "version": "3.6.4"
  }
 },
 "nbformat": 4,
 "nbformat_minor": 2
}
