{
 "cells": [
  {
   "cell_type": "code",
   "execution_count": 1,
   "metadata": {},
   "outputs": [
    {
     "name": "stdout",
     "output_type": "stream",
     "text": [
      "Error: IPOPT shared library failed to import\n"
     ]
    },
    {
     "name": "stderr",
     "output_type": "stream",
     "text": [
      "Using TensorFlow backend.\n"
     ]
    }
   ],
   "source": [
    "import numpy as np\n",
    "import matplotlib.pyplot as plt\n",
    "\n",
    "from tyssue.generation import generate_ring\n",
    "from tyssue.solvers.sheet_vertex_solver import Solver\n",
    "\n",
    "from tyssue_taylor.adjusters.adjust_annular import prepare_tensions\n",
    "from tyssue_taylor.models.annular import AnnularGeometry as geom\n",
    "from tyssue_taylor.models.annular import model\n",
    "from tyssue_taylor.models.display import create_organo"
   ]
  },
  {
   "cell_type": "code",
   "execution_count": 2,
   "metadata": {},
   "outputs": [
    {
     "name": "stderr",
     "output_type": "stream",
     "text": [
      "Reseting datasets values with new specs\n"
     ]
    }
   ],
   "source": [
    "nf, r_in, r_out = (20, 1, 2)\n",
    "seed = 1\n",
    "organo = create_organo(nf, r_in, r_out)"
   ]
  },
  {
   "cell_type": "markdown",
   "metadata": {},
   "source": [
    "The issue is that the lumen volume of the theoritical organoid is modified when solving the experimental organoid for the energy minimum. In my opinion this should not happen."
   ]
  },
  {
   "cell_type": "code",
   "execution_count": 3,
   "metadata": {},
   "outputs": [
    {
     "name": "stdout",
     "output_type": "stream",
     "text": [
      "{'geometry': 'planar', 'R_in': 1.3611892592378545, 'R_out': 2.722378518475709, 'R_vit': None, 'lumen_volume': 11.451157468552399, 'lumen_elasticity': 1.0, 'lumen_prefered_vol': 11.4424492629659}\n",
      "{'geometry': 'planar', 'R_in': 1.3611892592378545, 'R_out': 2.722378518475709, 'R_vit': None, 'lumen_volume': 11.443863543017354, 'lumen_elasticity': 1.0, 'lumen_prefered_vol': 11.4424492629659}\n",
      "The theoritical organo's lumen volume has been modified by Solver.find_energy_min\n"
     ]
    }
   ],
   "source": [
    "organo_eq_cst = organo.copy()\n",
    "organo_eq_cst.edge_df.loc[:, 'line_tension'] = prepare_tensions(organo_eq_cst,\n",
    "                                                                np.random.normal(0.01, 0.01, 3*organo.Nf))\n",
    "organo_eq_cst.face_df.loc[:, 'prefered_area'] = (organo_eq_cst.face_df.area.values +\n",
    "                                                 np.random.normal(0, 0.01, organo.Nf))\n",
    "organo_eq_cst.settings['lumen_prefered_vol'] = organo_eq_cst.settings['lumen_volume'] + np.random.normal(0, 0.01)\n",
    "print(organo.settings)\n",
    "Solver.find_energy_min(organo_eq_cst, geom, model)\n",
    "print(organo.settings)\n",
    "print('The theoritical organo\\'s lumen volume has been modified by Solver.find_energy_min')"
   ]
  },
  {
   "cell_type": "markdown",
   "metadata": {},
   "source": [
    "It gets worst with consecutive calls of the solving."
   ]
  },
  {
   "cell_type": "code",
   "execution_count": 4,
   "metadata": {},
   "outputs": [
    {
     "data": {
      "text/plain": [
       "[<matplotlib.lines.Line2D at 0x7f5d01e87b38>]"
      ]
     },
     "execution_count": 4,
     "metadata": {},
     "output_type": "execute_result"
    },
    {
     "data": {
      "image/png": "[encoded data removed]",
      "text/plain": [
       "<Figure size 432x288 with 1 Axes>"
      ]
     },
     "metadata": {
      "needs_background": "light"
     },
     "output_type": "display_data"
    }
   ],
   "source": [
    "iterations = np.arange(100)\n",
    "volumes = np.zeros(iterations.shape)\n",
    "for i in iterations:\n",
    "    organo_eq_cst = organo.copy()\n",
    "    organo_eq_cst.edge_df.loc[:, 'line_tension'] = prepare_tensions(organo_eq_cst,\n",
    "                                                                    np.random.normal(0.01, 0.01, 3*organo.Nf))\n",
    "    organo_eq_cst.face_df.loc[:, 'prefered_area'] = (organo_eq_cst.face_df.area.values +\n",
    "                                                     np.random.normal(0, 0.01, organo.Nf))\n",
    "    organo_eq_cst.settings['lumen_prefered_vol'] = organo_eq_cst.settings['lumen_volume'] + np.random.normal(0, 0.01)\n",
    "    Solver.find_energy_min(organo_eq_cst, geom, model)\n",
    "    volumes[i] = organo.settings['lumen_volume']\n",
    "plt.plot(iterations, volumes)"
   ]
  }
 ],
 "metadata": {
  "kernelspec": {
   "display_name": "Python 3",
   "language": "python",
   "name": "python3"
  },
  "language_info": {
   "codemirror_mode": {
    "name": "ipython",
    "version": 3
   },
   "file_extension": ".py",
   "mimetype": "text/x-python",
   "name": "python",
   "nbconvert_exporter": "python",
   "pygments_lexer": "ipython3",
   "version": "3.6.8"
  }
 },
 "nbformat": 4,
 "nbformat_minor": 2
}
